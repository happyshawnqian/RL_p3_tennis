{
 "cells": [
  {
   "cell_type": "code",
   "execution_count": 1,
   "id": "e3e7d75f",
   "metadata": {},
   "outputs": [],
   "source": [
    "from unityagents import UnityEnvironment\n",
    "import numpy as np\n",
    "import random\n",
    "import torch\n",
    "import os\n",
    "from collections import deque\n",
    "import time\n",
    "import matplotlib.pyplot as plt\n",
    "import warnings"
   ]
  },
  {
   "cell_type": "code",
   "execution_count": 2,
   "id": "89ebfc9f",
   "metadata": {},
   "outputs": [],
   "source": [
    "%matplotlib inline\n",
    "plt.style.use('ggplot')\n",
    "np.set_printoptions(precision=4, linewidth=130)\n",
    "warnings.filterwarnings(\"ignore\")\n",
    "model_dir = os.getcwd() + \"/model_dir\"\n",
    "os.makedirs(model_dir, exist_ok=True)"
   ]
  },
  {
   "cell_type": "code",
   "execution_count": 3,
   "id": "c93c37b0",
   "metadata": {},
   "outputs": [
    {
     "name": "stderr",
     "output_type": "stream",
     "text": [
      "INFO:unityagents:\n",
      "'Academy' started successfully!\n",
      "Unity Academy name: Academy\n",
      "        Number of Brains: 1\n",
      "        Number of External Brains : 1\n",
      "        Lesson number : 0\n",
      "        Reset Parameters :\n",
      "\t\t\n",
      "Unity brain name: TennisBrain\n",
      "        Number of Visual Observations (per agent): 0\n",
      "        Vector Observation space type: continuous\n",
      "        Vector Observation space size (per agent): 8\n",
      "        Number of stacked Vector Observation: 3\n",
      "        Vector Action space type: continuous\n",
      "        Vector Action space size (per agent): 2\n",
      "        Vector Action descriptions: , \n"
     ]
    }
   ],
   "source": [
    "# create an envirnment\n",
    "env = UnityEnvironment(file_name=\"E:/code/deep-reinforcement-learning/p3_collab-compet/Tennis_Windows_x86_64/Tennis.exe\")\n",
    "\n",
    "# get the default brain\n",
    "brain_name = env.brain_names[0]\n",
    "brain = env.brains[brain_name]"
   ]
  },
  {
   "cell_type": "code",
   "execution_count": 4,
   "id": "02c4b441",
   "metadata": {},
   "outputs": [
    {
     "name": "stdout",
     "output_type": "stream",
     "text": [
      "Num of Agents: 2\n",
      "State Shape (per agent): 24\n",
      "Length of action space: 2\n"
     ]
    }
   ],
   "source": [
    "# reset the environment\n",
    "env_info = env.reset(train_mode=True)[brain_name]\n",
    "\n",
    "# number of agents\n",
    "num_agents = len(env_info.agents)\n",
    "\n",
    "# size of actions\n",
    "ACTION_SIZE = brain.vector_action_space_size\n",
    "\n",
    "# size of the state space\n",
    "states = env_info.vector_observations\n",
    "STATE_SIZE = states.shape[1]\n",
    "\n",
    "print('Num of Agents: {}\\nState Shape (per agent): {}\\nLength of action space: {}'.format(\n",
    "       states.shape[0],\n",
    "       STATE_SIZE,\n",
    "       ACTION_SIZE))"
   ]
  },
  {
   "cell_type": "code",
   "execution_count": 5,
   "id": "1c0a6723",
   "metadata": {},
   "outputs": [],
   "source": [
    "def plot(scores):\n",
    "    '''plot scores'''\n",
    "    fig = plt.figure()\n",
    "    ax = fig.add_subplot(111)\n",
    "    ax.tick_params(axis='x')\n",
    "    ax.tick_params(axis='y')\n",
    "    plt.plot(np.arange(1, len(scores)+1), scores)\n",
    "    plt.ylabel('Score')\n",
    "    plt.xlabel('Episode #')\n",
    "    plt.show()"
   ]
  },
  {
   "cell_type": "code",
   "execution_count": 16,
   "id": "bc4560f5",
   "metadata": {},
   "outputs": [],
   "source": [
    "from maddpg_agents import Maddpg\n",
    "from hyperparameters import *\n",
    "\n",
    "def train():\n",
    "    np.random.seed(SEED)\n",
    "    torch.manual_seed(SEED)\n",
    "    # create the maddpg agents\n",
    "    maddpg = Maddpg(STATE_SIZE, ACTION_SIZE, num_agents, SEED)\n",
    "    # monitor the score\n",
    "    scores_deque = deque(maxlen=100)\n",
    "    all_scores = []\n",
    "    all_avg_score = []\n",
    "    # initialize OUNoise\n",
    "    noise = NOISE\n",
    "    all_steps = 0\n",
    "    overall_start_time = time.time()\n",
    "    episodes_start_time = time.time()\n",
    "    for i_episode in range(N_EPISODES+1):\n",
    "        env_info = env.reset(train_mode=True)[brain_name]\n",
    "        maddpg.reset()\n",
    "        states = env_info.vector_observations\n",
    "        scores = np.zeros(num_agents)\n",
    "        for steps in range(N_STEPS):\n",
    "            all_steps += 1\n",
    "            actions = maddpg.act(states, noise)         # get actions\n",
    "            noise *= NOISE_REDUCTION                    # decrease action noise\n",
    "            env_info = env.step(actions)[brain_name]    # send all actions to the environment\n",
    "            next_states = env_info.vector_observations  # get next state for each agent\n",
    "            rewards = env_info.rewards                  # get rewards\n",
    "            dones = env_info.local_done                 # get episode end flags\n",
    "            maddpg.step(states, actions, rewards, next_states, dones, i_episode)  # save experience and learn\n",
    "            scores += env_info.rewards\n",
    "            states = next_states\n",
    "            if np.any(dones):\n",
    "                break\n",
    "                \n",
    "        # save episode score and compute metrics\n",
    "        episode_score = np.max(scores) # take the max score of the two agents\n",
    "        all_scores.append(episode_score)\n",
    "        scores_deque.append(episode_score)\n",
    "        avg_score = np.mean(scores_deque)\n",
    "        \n",
    "        print('Episode {}\\tEpisode score: {:.2f}\\tAverage Score: {:.2f}'.format(i_episode, episode_score, avg_score), end=\"\\r\")\n",
    "        if i_episode > 0 and i_episode%100 == 0:\n",
    "            episodes_run_time = time.time() - episodes_start_time\n",
    "            episodes_start_time = time.time()\n",
    "            print('\\rEpisode {}\\tAverage Score: {:.2f}\\tTotal steps: {}\\tNoise: {:.2f}\\tRuntime: {:.2f} secs'.format(i_episode, avg_score, all_steps, noise, episodes_run_time))\n",
    "            maddpg.checkpoints()\n",
    "            all_avg_score.append(avg_score)\n",
    "            \n",
    "        # solve\n",
    "        if i_episode > 99 and avg_score >= 0.5:\n",
    "            total_run_time = time.time() - overall_start_time\n",
    "            print('\\rEnvironment solved in {} episodes with an Average Score of {:.2f} Total Runtime {:.2f} secs'.format(i_episode, avg_score, total_run_time))\n",
    "            maddpg.checkpoints()\n",
    "            return all_scores\n",
    "        \n",
    "    return all_scores"
   ]
  },
  {
   "cell_type": "code",
   "execution_count": 17,
   "id": "14d3352d",
   "metadata": {},
   "outputs": [
    {
     "name": "stdout",
     "output_type": "stream",
     "text": [
      "Episode 100\tAverage Score: 0.00\tTotal steps: 1581\tNoise: 0.00\tRuntime: 51.55 secs\n",
      "Episode 200\tAverage Score: 0.02\tTotal steps: 3342\tNoise: 0.00\tRuntime: 73.55 secs\n",
      "Episode 300\tAverage Score: 0.03\tTotal steps: 5304\tNoise: 0.00\tRuntime: 78.98 secs\n",
      "Episode 400\tAverage Score: 0.04\tTotal steps: 7369\tNoise: 0.00\tRuntime: 79.28 secs\n",
      "Episode 500\tAverage Score: 0.03\tTotal steps: 9407\tNoise: 0.00\tRuntime: 77.75 secs\n",
      "Episode 600\tAverage Score: 0.03\tTotal steps: 11440\tNoise: 0.00\tRuntime: 95.25 secs\n",
      "Episode 700\tAverage Score: 0.02\tTotal steps: 13469\tNoise: 0.00\tRuntime: 66.83 secs\n",
      "Episode 800\tAverage Score: 0.04\tTotal steps: 16092\tNoise: 0.00\tRuntime: 89.64 secs\n",
      "Episode 900\tAverage Score: 0.05\tTotal steps: 18946\tNoise: 0.00\tRuntime: 92.99 secs\n",
      "Episode 1000\tAverage Score: 0.07\tTotal steps: 22259\tNoise: 0.00\tRuntime: 134.61 secs\n",
      "Episode 1100\tAverage Score: 0.08\tTotal steps: 25441\tNoise: 0.00\tRuntime: 128.02 secs\n",
      "Episode 1200\tAverage Score: 0.10\tTotal steps: 29169\tNoise: 0.00\tRuntime: 147.10 secs\n",
      "Episode 1300\tAverage Score: 0.11\tTotal steps: 33603\tNoise: 0.00\tRuntime: 168.84 secs\n",
      "Episode 1400\tAverage Score: 0.15\tTotal steps: 39413\tNoise: 0.00\tRuntime: 173.44 secs\n",
      "Episode 1500\tAverage Score: 0.47\tTotal steps: 57774\tNoise: 0.00\tRuntime: 357.22 secs\n",
      "Environment solved in 1507 episodes with an Average Score of 0.52 Total Runtime 1840.74 secs\n"
     ]
    },
    {
     "data": {
      "image/png": "[encoded data removed]",
      "text/plain": [
       "<Figure size 432x288 with 1 Axes>"
      ]
     },
     "metadata": {},
     "output_type": "display_data"
    }
   ],
   "source": [
    "# training\n",
    "scores = train()\n",
    "plot(scores)"
   ]
  },
  {
   "cell_type": "code",
   "execution_count": 18,
   "id": "15f64708",
   "metadata": {},
   "outputs": [],
   "source": [
    "# check the result\n",
    "from maddpg_agents import Maddpg\n",
    "from hyperparameters import *\n",
    "\n",
    "maddpg_agent = Maddpg(STATE_SIZE, ACTION_SIZE, num_agents, SEED)"
   ]
  },
  {
   "cell_type": "code",
   "execution_count": 19,
   "id": "89490946",
   "metadata": {},
   "outputs": [],
   "source": [
    "maddpg_agent.agents[0].actor_local.load_state_dict(torch.load('./model_dir/checkpoint_actor_local_0.pth'))\n",
    "maddpg_agent.agents[0].critic_local.load_state_dict(torch.load('./model_dir/checkpoint_critic_local_0.pth'))\n",
    "maddpg_agent.agents[1].actor_local.load_state_dict(torch.load('./model_dir/checkpoint_actor_local_0.pth'))\n",
    "maddpg_agent.agents[1].critic_local.load_state_dict(torch.load('./model_dir/checkpoint_critic_local_0.pth'))"
   ]
  },
  {
   "cell_type": "code",
   "execution_count": 27,
   "id": "60e93eb0",
   "metadata": {},
   "outputs": [
    {
     "name": "stdout",
     "output_type": "stream",
     "text": [
      "Test Score: 1.9000000283122063\n"
     ]
    }
   ],
   "source": [
    "env_info = env.reset(train_mode=False)[brain_name]\n",
    "maddpg_agent.reset()\n",
    "states = env_info.vector_observations\n",
    "scores = np.zeros(num_agents)\n",
    "\n",
    "while True:\n",
    "    actions = maddpg_agent.act(states, False)\n",
    "    env_info = env.step(actions)[brain_name]\n",
    "    rewards = env_info.rewards\n",
    "    next_states = env_info.vector_observations\n",
    "    dones = env_info.local_done\n",
    "    scores += rewards\n",
    "    states = next_states\n",
    "    \n",
    "    if np.any(dones):\n",
    "        break\n",
    "        \n",
    "print('Test Score: {}'.format(np.max(scores)))"
   ]
  },
  {
   "cell_type": "code",
   "execution_count": 28,
   "id": "f3162f6b",
   "metadata": {},
   "outputs": [],
   "source": [
    "env.close()"
   ]
  }
 ],
 "metadata": {
  "kernelspec": {
   "display_name": "drlnd",
   "language": "python",
   "name": "drlnd"
  },
  "language_info": {
   "codemirror_mode": {
    "name": "ipython",
    "version": 3
   },
   "file_extension": ".py",
   "mimetype": "text/x-python",
   "name": "python",
   "nbconvert_exporter": "python",
   "pygments_lexer": "ipython3",
   "version": "3.6.13"
  }
 },
 "nbformat": 4,
 "nbformat_minor": 5
}
