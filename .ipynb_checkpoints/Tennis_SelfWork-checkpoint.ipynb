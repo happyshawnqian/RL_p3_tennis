{
 "cells": [
  {
   "cell_type": "code",
   "execution_count": 1,
   "metadata": {
    "scrolled": false
   },
   "outputs": [
    {
     "name": "stdout",
     "output_type": "stream",
     "text": [
      "\u001b[31mtensorflow 1.7.1 has requirement numpy>=1.13.3, but you'll have numpy 1.12.1 which is incompatible.\u001b[0m\r\n",
      "\u001b[31mipython 6.5.0 has requirement prompt-toolkit<2.0.0,>=1.0.15, but you'll have prompt-toolkit 2.0.9 which is incompatible.\u001b[0m\r\n"
     ]
    }
   ],
   "source": [
    "!pip -q install ./python"
   ]
  },
  {
   "cell_type": "code",
   "execution_count": 1,
   "metadata": {},
   "outputs": [],
   "source": [
    "from unityagents import UnityEnvironment\n",
    "import numpy as np\n",
    "import random\n",
    "import torch\n",
    "import os\n",
    "import numpy as np\n",
    "from collections import deque\n",
    "import time\n",
    "import matplotlib.pyplot as plt\n",
    "import warnings"
   ]
  },
  {
   "cell_type": "code",
   "execution_count": 2,
   "metadata": {},
   "outputs": [],
   "source": [
    "%matplotlib inline\n",
    "plt.style.use('ggplot')\n",
    "np.set_printoptions(precision=4, linewidth=130)\n",
    "warnings.filterwarnings(\"ignore\")\n",
    "model_dir = os.getcwd()+\"/model_dir\"\n",
    "os.makedirs(model_dir, exist_ok=True)"
   ]
  },
  {
   "cell_type": "code",
   "execution_count": 3,
   "metadata": {},
   "outputs": [
    {
     "name": "stderr",
     "output_type": "stream",
     "text": [
      "INFO:unityagents:\n",
      "'Academy' started successfully!\n",
      "Unity Academy name: Academy\n",
      "        Number of Brains: 1\n",
      "        Number of External Brains : 1\n",
      "        Lesson number : 0\n",
      "        Reset Parameters :\n",
      "\t\t\n",
      "Unity brain name: TennisBrain\n",
      "        Number of Visual Observations (per agent): 0\n",
      "        Vector Observation space type: continuous\n",
      "        Vector Observation space size (per agent): 8\n",
      "        Number of stacked Vector Observation: 3\n",
      "        Vector Action space type: continuous\n",
      "        Vector Action space size (per agent): 2\n",
      "        Vector Action descriptions: , \n"
     ]
    }
   ],
   "source": [
    "# Load a single agent of the environment\n",
    "env = UnityEnvironment(file_name=\"E:/code/deep-reinforcement-learning/p3_collab-compet/Tennis_Windows_x86_64/Tennis.exe\")\n",
    "\n",
    "# Get the default brain\n",
    "brain_name = env.brain_names[0]\n",
    "brain = env.brains[brain_name]"
   ]
  },
  {
   "cell_type": "code",
   "execution_count": 4,
   "metadata": {},
   "outputs": [
    {
     "name": "stdout",
     "output_type": "stream",
     "text": [
      "Agents Num: 2\n",
      "State Shape (per agent): 24\n",
      "Len of action space: 2\n"
     ]
    }
   ],
   "source": [
    "# Reset the environment    \n",
    "env_info = env.reset(train_mode=True)[brain_name]     \n",
    "\n",
    "# number of agents\n",
    "num_agents = len(env_info.agents)\n",
    "\n",
    "# size of each action\n",
    "ENV_ACTION_SIZE = brain.vector_action_space_size\n",
    "\n",
    "# size of the state space \n",
    "states = env_info.vector_observations\n",
    "ENV_STATE_SIZE = states.shape[1]\n",
    "\n",
    "print('Agents Num: {}\\nState Shape (per agent): {}\\nLen of action space: {}'.format(\n",
    "    states.shape[0],\n",
    "    ENV_STATE_SIZE,\n",
    "    ENV_ACTION_SIZE\n",
    "    )\n",
    ")"
   ]
  },
  {
   "cell_type": "code",
   "execution_count": 5,
   "metadata": {},
   "outputs": [
    {
     "name": "stdout",
     "output_type": "stream",
     "text": [
      "Score (max over agents) from episode 1: 0.09000000171363354\n",
      "Score (max over agents) from episode 2: 0.0\n",
      "Score (max over agents) from episode 3: 0.10000000149011612\n",
      "Score (max over agents) from episode 4: 0.0\n",
      "Score (max over agents) from episode 5: 0.0\n"
     ]
    }
   ],
   "source": [
    "def random_agents():    \n",
    "    for i_episode in range(1, 6):\n",
    "        env_info = env.reset(train_mode=False)[brain_name]\n",
    "        states = env_info.vector_observations\n",
    "        scores = np.zeros(num_agents)\n",
    "        t = 0\n",
    "        while True:\n",
    "            t+=1\n",
    "            actions = np.random.randn(num_agents, ENV_ACTION_SIZE)\n",
    "            actions = np.clip(actions, -1, 1)\n",
    "            env_info = env.step(actions)[brain_name]\n",
    "            next_states = env_info.vector_observations\n",
    "            rewards = env_info.rewards\n",
    "            dones = env_info.local_done\n",
    "            scores += env_info.rewards\n",
    "            states = next_states\n",
    "            if np.any(dones):\n",
    "                break\n",
    "        print('Score (max over agents) from episode {}: {}'.format(i_episode, np.max(scores)))\n",
    "\n",
    "random_agents()"
   ]
  },
  {
   "cell_type": "markdown",
   "metadata": {},
   "source": [
    "# maddpg training"
   ]
  },
  {
   "cell_type": "markdown",
   "metadata": {},
   "source": [
    "## plotting method"
   ]
  },
  {
   "cell_type": "code",
   "execution_count": 6,
   "metadata": {},
   "outputs": [],
   "source": [
    "def plot(scores):\n",
    "    '''plot scores'''\n",
    "    fig = plt.figure()\n",
    "    ax = fig.add_subplot(111)\n",
    "    ax.tick_params(axis='x')\n",
    "    ax.tick_params(axis='y')\n",
    "    plt.plot(np.arange(1, len(scores)+1), scores)\n",
    "    plt.ylabel('Score')\n",
    "    plt.xlabel('Episode #')\n",
    "    plt.show()"
   ]
  },
  {
   "cell_type": "code",
   "execution_count": 7,
   "metadata": {},
   "outputs": [],
   "source": [
    "from maddpg_agents import Maddpg\n",
    "from hyperparameters import *\n",
    "\n",
    "def train(): \n",
    "    np.random.seed(SEED)\n",
    "    torch.manual_seed(SEED)\n",
    "    # Instantiate the MADDPG agents\n",
    "    maddpg = Maddpg(ENV_STATE_SIZE, ENV_ACTION_SIZE, num_agents, SEED)\n",
    "    # Monitor the score    \n",
    "    scores_deque = deque(maxlen=100)\n",
    "    all_scores = []\n",
    "    all_avg_score = []\n",
    "    # Intialize amplitude OUNoise\n",
    "    noise = NOISE\n",
    "    all_steps = 0  \n",
    "    for i_episode in range(N_EPISODES+1):  \n",
    "        env_info = env.reset(train_mode=True)[brain_name]\n",
    "        maddpg.reset()\n",
    "        states = env_info.vector_observations\n",
    "        scores = np.zeros(num_agents)\n",
    "        for steps in range(N_STEPS):\n",
    "            all_steps += 1\n",
    "            actions = maddpg.act(states, noise)                    # retrieve actions to performe for each agents \n",
    "            noise *= NOISE_REDUCTION                               # Decrease action noise\n",
    "            env_info = env.step(actions)[brain_name]               # send all actions to tne environment\n",
    "            next_states = env_info.vector_observations             # get next state for each agent\n",
    "            rewards = env_info.rewards                             # get rewards (for each agent)\n",
    "            dones = env_info.local_done                            # get episode end flags\n",
    "            maddpg.step(states, actions, rewards, next_states, dones, i_episode)  # experiences => buffer + random sample experiences tuples for learning\n",
    "            scores += env_info.rewards\n",
    "            states = next_states\n",
    "            if np.any(dones):\n",
    "                break\n",
    "        \n",
    "        # Saving scores and computing metrics\n",
    "        episode_score  = np.max(scores) # take the score of the leading agent\n",
    "        all_scores.append(episode_score)\n",
    "        scores_deque.append(episode_score)\n",
    "        avg_score = np.mean(scores_deque)\n",
    "\n",
    "        print('Episode {}\\tAverage Score: {:.2f}\\tEpisode score (max over agents): {:.2f}'.format(i_episode, avg_score, episode_score), end=\"\\r\")\n",
    "        if i_episode > 0 and i_episode % 100 == 0:\n",
    "            print('\\rEpisode {}\\tAverage Score: {:.2f} (nb of total steps={}   noise={:.4f})'.format(i_episode, avg_score, all_steps, noise))\n",
    "            maddpg.checkpoints()\n",
    "            all_avg_score.append(avg_score)\n",
    "        \n",
    "        # Early stop\n",
    "        if (i_episode > 99) and (avg_score >=0.5):\n",
    "            print('\\rEnvironment solved in {} episodes with an Average Score of {:.2f}'.format(i_episode, avg_score))\n",
    "            maddpg.checkpoints()\n",
    "            return all_scores\n",
    "\n",
    "    return all_scores"
   ]
  },
  {
   "cell_type": "code",
   "execution_count": 8,
   "metadata": {
    "scrolled": true
   },
   "outputs": [
    {
     "name": "stdout",
     "output_type": "stream",
     "text": [
      "Episode 100\tAverage Score: 0.02 (nb of total steps=1931   noise=1.0000)\n",
      "Episode 200\tAverage Score: 0.01 (nb of total steps=3493   noise=1.0000)\n",
      "Episode 300\tAverage Score: 0.00 (nb of total steps=4926   noise=1.0000)\n",
      "Episode 400\tAverage Score: 0.01 (nb of total steps=6550   noise=1.0000)\n",
      "Episode 500\tAverage Score: 0.01 (nb of total steps=8098   noise=1.0000)\n",
      "Episode 600\tAverage Score: 0.03 (nb of total steps=10106   noise=1.0000)\n",
      "Episode 700\tAverage Score: 0.03 (nb of total steps=12212   noise=1.0000)\n",
      "Episode 800\tAverage Score: 0.03 (nb of total steps=14537   noise=1.0000)\n",
      "Episode 900\tAverage Score: 0.08 (nb of total steps=17983   noise=1.0000)\n",
      "Episode 1000\tAverage Score: 0.09 (nb of total steps=21782   noise=1.0000)\n",
      "Episode 1100\tAverage Score: 0.08 (nb of total steps=25151   noise=1.0000)\n",
      "Episode 1200\tAverage Score: 0.09 (nb of total steps=28684   noise=1.0000)\n",
      "Episode 1300\tAverage Score: 0.08 (nb of total steps=32150   noise=1.0000)\n",
      "Episode 1400\tAverage Score: 0.05 (nb of total steps=34619   noise=1.0000)\n",
      "Episode 1500\tAverage Score: 0.05 (nb of total steps=36824   noise=1.0000)\n",
      "Episode 1600\tAverage Score: 0.04 (nb of total steps=38950   noise=1.0000)\n",
      "Episode 1700\tAverage Score: 0.05 (nb of total steps=41170   noise=1.0000)\n",
      "Episode 1800\tAverage Score: 0.05 (nb of total steps=43384   noise=1.0000)\n",
      "Episode 1900\tAverage Score: 0.06 (nb of total steps=45964   noise=1.0000)\n",
      "Episode 2000\tAverage Score: 0.10 (nb of total steps=49761   noise=1.0000)\n",
      "Episode 2100\tAverage Score: 0.10 (nb of total steps=53524   noise=1.0000)\n",
      "Episode 2200\tAverage Score: 0.09 (nb of total steps=57028   noise=1.0000)\n",
      "Episode 2300\tAverage Score: 0.10 (nb of total steps=60972   noise=1.0000)\n",
      "Episode 2400\tAverage Score: 0.14 (nb of total steps=66287   noise=1.0000)\n",
      "Episode 2500\tAverage Score: 0.14 (nb of total steps=71510   noise=1.0000)\n",
      "Episode 2600\tAverage Score: 0.23 (nb of total steps=80738   noise=1.0000)\n",
      "Episode 2700\tAverage Score: 0.23 (nb of total steps=90260   noise=1.0000)\n",
      "Episode 2800\tAverage Score: 0.13 (nb of total steps=96396   noise=1.0000)\n",
      "Episode 2900\tAverage Score: 0.10 (nb of total steps=101327   noise=1.0000)\n",
      "Episode 3000\tAverage Score: 0.07 (nb of total steps=105080   noise=1.0000)\n",
      "Episode 3100\tAverage Score: 0.10 (nb of total steps=109583   noise=1.0000)\n",
      "Episode 3200\tAverage Score: 0.12 (nb of total steps=115207   noise=1.0000)\n",
      "Episode 3300\tAverage Score: 0.17 (nb of total steps=122274   noise=1.0000)\n",
      "Episode 3400\tAverage Score: 0.16 (nb of total steps=129433   noise=1.0000)\n",
      "Episode 3500\tAverage Score: 0.09 (nb of total steps=134117   noise=1.0000)\n",
      "Episode 3600\tAverage Score: 0.14 (nb of total steps=140727   noise=1.0000)\n",
      "Episode 3700\tAverage Score: 0.22 (nb of total steps=150513   noise=1.0000)\n",
      "Episode 3800\tAverage Score: 0.44 (nb of total steps=167845   noise=1.0000)\n",
      "Episode 3900\tAverage Score: 0.39 (nb of total steps=183820   noise=1.0000)\n",
      "Episode 4000\tAverage Score: 0.31 (nb of total steps=196511   noise=1.0000)\n",
      "Episode 4100\tAverage Score: 0.21 (nb of total steps=204929   noise=1.0000)\n",
      "Episode 4200\tAverage Score: 0.32 (nb of total steps=217877   noise=1.0000)\n",
      "Episode 4300\tAverage Score: 0.41 (nb of total steps=234157   noise=1.0000)\n",
      "Episode 4400\tAverage Score: 0.31 (nb of total steps=246706   noise=1.0000)\n",
      "Episode 4500\tAverage Score: 0.22 (nb of total steps=255813   noise=1.0000)\n",
      "Episode 4600\tAverage Score: 0.32 (nb of total steps=268610   noise=1.0000)\n",
      "Episode 4700\tAverage Score: 0.27 (nb of total steps=279930   noise=1.0000)\n",
      "Episode 4800\tAverage Score: 0.33 (nb of total steps=293399   noise=1.0000)\n",
      "Episode 4900\tAverage Score: 0.30 (nb of total steps=305394   noise=1.0000)\n",
      "Episode 5000\tAverage Score: 0.28 (nb of total steps=316518   noise=1.0000)\n",
      "Episode 5100\tAverage Score: 0.25 (nb of total steps=326446   noise=1.0000)\n",
      "Episode 5200\tAverage Score: 0.36 (nb of total steps=340516   noise=1.0000)\n",
      "Episode 5300\tAverage Score: 0.37 (nb of total steps=355296   noise=1.0000)\n",
      "Episode 5400\tAverage Score: 0.33 (nb of total steps=368629   noise=1.0000)\n",
      "Episode 5500\tAverage Score: 0.30 (nb of total steps=380408   noise=1.0000)\n",
      "Episode 5600\tAverage Score: 0.26 (nb of total steps=390633   noise=1.0000)\n",
      "Episode 5700\tAverage Score: 0.43 (nb of total steps=407496   noise=1.0000)\n",
      "Episode 5800\tAverage Score: 0.48 (nb of total steps=426456   noise=1.0000)\n",
      "Episode 5900\tAverage Score: 0.29 (nb of total steps=437763   noise=1.0000)\n",
      "Episode 6000\tAverage Score: 0.34 (nb of total steps=451236   noise=1.0000)\n",
      "Episode 6100\tAverage Score: 0.27 (nb of total steps=462191   noise=1.0000)\n",
      "Episode 6200\tAverage Score: 0.28 (nb of total steps=473659   noise=1.0000)\n",
      "Episode 6300\tAverage Score: 0.37 (nb of total steps=488385   noise=1.0000)\n",
      "Episode 6400\tAverage Score: 0.44 (nb of total steps=505673   noise=1.0000)\n",
      "Episode 6500\tAverage Score: 0.28 (nb of total steps=517184   noise=1.0000)\n",
      "Episode 6600\tAverage Score: 0.23 (nb of total steps=526422   noise=1.0000)\n",
      "Episode 6700\tAverage Score: 0.26 (nb of total steps=536965   noise=1.0000)\n",
      "Episode 6800\tAverage Score: 0.34 (nb of total steps=550824   noise=1.0000)\n",
      "Episode 6900\tAverage Score: 0.33 (nb of total steps=564006   noise=1.0000)\n",
      "Episode 7000\tAverage Score: 0.24 (nb of total steps=573653   noise=1.0000)\n",
      "Episode 7100\tAverage Score: 0.33 (nb of total steps=587195   noise=1.0000)\n",
      "Episode 7200\tAverage Score: 0.27 (nb of total steps=598297   noise=1.0000)\n",
      "Episode 7300\tAverage Score: 0.24 (nb of total steps=607918   noise=1.0000)\n",
      "Episode 7400\tAverage Score: 0.34 (nb of total steps=621528   noise=1.0000)\n",
      "Episode 7500\tAverage Score: 0.38 (nb of total steps=636697   noise=1.0000)\n",
      "Episode 7600\tAverage Score: 0.33 (nb of total steps=650124   noise=1.0000)\n",
      "Episode 7700\tAverage Score: 0.38 (nb of total steps=665156   noise=1.0000)\n",
      "Episode 7800\tAverage Score: 0.40 (nb of total steps=680869   noise=1.0000)\n",
      "Episode 7900\tAverage Score: 0.38 (nb of total steps=696049   noise=1.0000)\n",
      "Episode 8000\tAverage Score: 0.39 (nb of total steps=711709   noise=1.0000)\n",
      "Environment solved in 8084 episodes with an Average Score of 0.50 0.50\n"
     ]
    },
    {
     "data": {
      "image/png": "[encoded data removed]",
      "text/plain": [
       "<Figure size 432x288 with 1 Axes>"
      ]
     },
     "metadata": {},
     "output_type": "display_data"
    }
   ],
   "source": [
    "# Launch training\n",
    "scores = train()\n",
    "plot(scores)"
   ]
  },
  {
   "cell_type": "code",
   "execution_count": 9,
   "metadata": {},
   "outputs": [],
   "source": [
    "from maddpg_agents import Maddpg\n",
    "from hparams import *\n",
    "\n",
    "maddpg_agent = Maddpg(ENV_STATE_SIZE, ENV_ACTION_SIZE, num_agents, SEED)"
   ]
  },
  {
   "cell_type": "code",
   "execution_count": 13,
   "metadata": {
    "scrolled": true
   },
   "outputs": [],
   "source": [
    "maddpg_agent.agents[0].actor_local.load_state_dict(torch.load('./model_dir/checkpoint_actor_local_0.pth'))\n",
    "maddpg_agent.agents[0].critic_local.load_state_dict(torch.load('./model_dir/checkpoint_critic_local_0.pth'))\n",
    "maddpg_agent.agents[1].actor_local.load_state_dict(torch.load('./model_dir/checkpoint_actor_local_0.pth'))\n",
    "maddpg_agent.agents[1].critic_local.load_state_dict(torch.load('./model_dir/checkpoint_critic_local_0.pth'))"
   ]
  },
  {
   "cell_type": "code",
   "execution_count": 14,
   "metadata": {},
   "outputs": [
    {
     "name": "stdout",
     "output_type": "stream",
     "text": [
      "Test Score: 2.600000038743019\n"
     ]
    }
   ],
   "source": [
    "env_info = env.reset(train_mode=False)[brain_name]\n",
    "maddpg_agent.reset()\n",
    "states = env_info.vector_observations\n",
    "scores = np.zeros(num_agents)\n",
    "\n",
    "while True:\n",
    "    actions = maddpg_agent.act(states, False)\n",
    "    env_info = env.step(actions)[brain_name]\n",
    "    rewards = env_info.rewards\n",
    "    next_states = env_info.vector_observations\n",
    "    dones = env_info.local_done\n",
    "    scores += rewards\n",
    "    states = next_states\n",
    "    \n",
    "    if np.any(dones):\n",
    "        break\n",
    "        \n",
    "print('Test Score: {}'.format(np.max(scores)))"
   ]
  },
  {
   "cell_type": "code",
   "execution_count": 15,
   "metadata": {},
   "outputs": [],
   "source": [
    "env.close()"
   ]
  }
 ],
 "metadata": {
  "kernelspec": {
   "display_name": "Python 3",
   "language": "python",
   "name": "python3"
  },
  "language_info": {
   "codemirror_mode": {
    "name": "ipython",
    "version": 3
   },
   "file_extension": ".py",
   "mimetype": "text/x-python",
   "name": "python",
   "nbconvert_exporter": "python",
   "pygments_lexer": "ipython3",
   "version": "3.6.13"
  }
 },
 "nbformat": 4,
 "nbformat_minor": 2
}
